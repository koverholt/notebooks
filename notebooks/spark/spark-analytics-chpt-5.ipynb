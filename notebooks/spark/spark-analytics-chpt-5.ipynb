{
 "cells": [
  {
   "cell_type": "code",
   "execution_count": 1,
   "metadata": {
    "collapsed": false
   },
   "outputs": [],
   "source": [
    "from pyspark import SparkConf\n",
    "from pyspark import SparkContext\n",
    "\n",
    "import pandas as pd"
   ]
  },
  {
   "cell_type": "code",
   "execution_count": 2,
   "metadata": {
    "collapsed": true
   },
   "outputs": [],
   "source": [
    "conf = SparkConf()\n",
    "conf.setMaster('spark://ip-172-31-9-200:7077')\n",
    "conf.setAppName('spark_analytics_chpt_5')\n",
    "conf.set(\"spark.executor.memory\", \"10g\")\n",
    "sc = SparkContext(conf=conf)"
   ]
  },
  {
   "cell_type": "markdown",
   "metadata": {},
   "source": [
    "Data from http://kdd.ics.uci.edu/databases/kddcup99/kddcup99.html"
   ]
  },
  {
   "cell_type": "code",
   "execution_count": 3,
   "metadata": {
    "collapsed": true
   },
   "outputs": [],
   "source": [
    "raw_data = sc.textFile('kddcup.data')"
   ]
  },
  {
   "cell_type": "code",
   "execution_count": 4,
   "metadata": {
    "collapsed": false
   },
   "outputs": [
    {
     "data": {
      "text/plain": [
       "[u'0,tcp,http,SF,215,45076,0,0,0,0,0,1,0,0,0,0,0,0,0,0,0,0,1,1,0.00,0.00,0.00,0.00,1.00,0.00,0.00,0,0,0.00,0.00,0.00,0.00,0.00,0.00,0.00,0.00,normal.',\n",
       " u'0,tcp,http,SF,162,4528,0,0,0,0,0,1,0,0,0,0,0,0,0,0,0,0,2,2,0.00,0.00,0.00,0.00,1.00,0.00,0.00,1,1,1.00,0.00,1.00,0.00,0.00,0.00,0.00,0.00,normal.',\n",
       " u'0,tcp,http,SF,236,1228,0,0,0,0,0,1,0,0,0,0,0,0,0,0,0,0,1,1,0.00,0.00,0.00,0.00,1.00,0.00,0.00,2,2,1.00,0.00,0.50,0.00,0.00,0.00,0.00,0.00,normal.',\n",
       " u'0,tcp,http,SF,233,2032,0,0,0,0,0,1,0,0,0,0,0,0,0,0,0,0,2,2,0.00,0.00,0.00,0.00,1.00,0.00,0.00,3,3,1.00,0.00,0.33,0.00,0.00,0.00,0.00,0.00,normal.',\n",
       " u'0,tcp,http,SF,239,486,0,0,0,0,0,1,0,0,0,0,0,0,0,0,0,0,3,3,0.00,0.00,0.00,0.00,1.00,0.00,0.00,4,4,1.00,0.00,0.25,0.00,0.00,0.00,0.00,0.00,normal.']"
      ]
     },
     "execution_count": 4,
     "metadata": {},
     "output_type": "execute_result"
    }
   ],
   "source": [
    "raw_data.take(5)"
   ]
  },
  {
   "cell_type": "code",
   "execution_count": 5,
   "metadata": {
    "collapsed": false
   },
   "outputs": [],
   "source": [
    "events = raw_data.map(lambda x: x.split(',')[-1]).countByValue()"
   ]
  },
  {
   "cell_type": "code",
   "execution_count": 6,
   "metadata": {
    "collapsed": false
   },
   "outputs": [
    {
     "data": {
      "text/plain": [
       "[(u'smurf.', 2807886),\n",
       " (u'neptune.', 1072017),\n",
       " (u'normal.', 972781),\n",
       " (u'satan.', 15892),\n",
       " (u'ipsweep.', 12481),\n",
       " (u'portsweep.', 10413),\n",
       " (u'nmap.', 2316),\n",
       " (u'back.', 2203),\n",
       " (u'warezclient.', 1020),\n",
       " (u'teardrop.', 979),\n",
       " (u'pod.', 264),\n",
       " (u'guess_passwd.', 53),\n",
       " (u'buffer_overflow.', 30),\n",
       " (u'land.', 21),\n",
       " (u'warezmaster.', 20),\n",
       " (u'imap.', 12),\n",
       " (u'rootkit.', 10),\n",
       " (u'loadmodule.', 9),\n",
       " (u'ftp_write.', 8),\n",
       " (u'multihop.', 7),\n",
       " (u'phf.', 4),\n",
       " (u'perl.', 3),\n",
       " (u'spy.', 2)]"
      ]
     },
     "execution_count": 6,
     "metadata": {},
     "output_type": "execute_result"
    }
   ],
   "source": [
    "sorted(events.items(), key=lambda x: x[1], reverse=True)"
   ]
  },
  {
   "cell_type": "code",
   "execution_count": 7,
   "metadata": {
    "collapsed": false
   },
   "outputs": [],
   "source": [
    "from pyspark.mllib.linalg import Vectors\n",
    "\n",
    "def to_float(s):\n",
    "    try:\n",
    "        return float(s)\n",
    "    except:\n",
    "        return float('nan')\n",
    "\n",
    "def clean(line):\n",
    "    values = [line.split(',')[0]] + line.split(',')[4:-1]\n",
    "    label = line.split(',')[-1]\n",
    "    vector = Vectors.dense([to_float(x) for x in values])\n",
    "    return (label, vector)"
   ]
  },
  {
   "cell_type": "code",
   "execution_count": 8,
   "metadata": {
    "collapsed": false
   },
   "outputs": [],
   "source": [
    "labels_and_data = raw_data.map(clean)"
   ]
  },
  {
   "cell_type": "code",
   "execution_count": 9,
   "metadata": {
    "collapsed": false
   },
   "outputs": [
    {
     "data": {
      "text/plain": [
       "[(u'normal.',\n",
       "  DenseVector([0.0, 215.0, 45076.0, 0.0, 0.0, 0.0, 0.0, 0.0, 1.0, 0.0, 0.0, 0.0, 0.0, 0.0, 0.0, 0.0, 0.0, 0.0, 0.0, 1.0, 1.0, 0.0, 0.0, 0.0, 0.0, 1.0, 0.0, 0.0, 0.0, 0.0, 0.0, 0.0, 0.0, 0.0, 0.0, 0.0, 0.0, 0.0])),\n",
       " (u'normal.',\n",
       "  DenseVector([0.0, 162.0, 4528.0, 0.0, 0.0, 0.0, 0.0, 0.0, 1.0, 0.0, 0.0, 0.0, 0.0, 0.0, 0.0, 0.0, 0.0, 0.0, 0.0, 2.0, 2.0, 0.0, 0.0, 0.0, 0.0, 1.0, 0.0, 0.0, 1.0, 1.0, 1.0, 0.0, 1.0, 0.0, 0.0, 0.0, 0.0, 0.0])),\n",
       " (u'normal.',\n",
       "  DenseVector([0.0, 236.0, 1228.0, 0.0, 0.0, 0.0, 0.0, 0.0, 1.0, 0.0, 0.0, 0.0, 0.0, 0.0, 0.0, 0.0, 0.0, 0.0, 0.0, 1.0, 1.0, 0.0, 0.0, 0.0, 0.0, 1.0, 0.0, 0.0, 2.0, 2.0, 1.0, 0.0, 0.5, 0.0, 0.0, 0.0, 0.0, 0.0])),\n",
       " (u'normal.',\n",
       "  DenseVector([0.0, 233.0, 2032.0, 0.0, 0.0, 0.0, 0.0, 0.0, 1.0, 0.0, 0.0, 0.0, 0.0, 0.0, 0.0, 0.0, 0.0, 0.0, 0.0, 2.0, 2.0, 0.0, 0.0, 0.0, 0.0, 1.0, 0.0, 0.0, 3.0, 3.0, 1.0, 0.0, 0.33, 0.0, 0.0, 0.0, 0.0, 0.0])),\n",
       " (u'normal.',\n",
       "  DenseVector([0.0, 239.0, 486.0, 0.0, 0.0, 0.0, 0.0, 0.0, 1.0, 0.0, 0.0, 0.0, 0.0, 0.0, 0.0, 0.0, 0.0, 0.0, 0.0, 3.0, 3.0, 0.0, 0.0, 0.0, 0.0, 1.0, 0.0, 0.0, 4.0, 4.0, 1.0, 0.0, 0.25, 0.0, 0.0, 0.0, 0.0, 0.0]))]"
      ]
     },
     "execution_count": 9,
     "metadata": {},
     "output_type": "execute_result"
    }
   ],
   "source": [
    "labels_and_data.take(5)"
   ]
  },
  {
   "cell_type": "code",
   "execution_count": 10,
   "metadata": {
    "collapsed": true
   },
   "outputs": [],
   "source": [
    "data = labels_and_data.map(lambda x: x[1])"
   ]
  },
  {
   "cell_type": "code",
   "execution_count": 11,
   "metadata": {
    "collapsed": false
   },
   "outputs": [
    {
     "data": {
      "text/plain": [
       "[DenseVector([0.0, 215.0, 45076.0, 0.0, 0.0, 0.0, 0.0, 0.0, 1.0, 0.0, 0.0, 0.0, 0.0, 0.0, 0.0, 0.0, 0.0, 0.0, 0.0, 1.0, 1.0, 0.0, 0.0, 0.0, 0.0, 1.0, 0.0, 0.0, 0.0, 0.0, 0.0, 0.0, 0.0, 0.0, 0.0, 0.0, 0.0, 0.0]),\n",
       " DenseVector([0.0, 162.0, 4528.0, 0.0, 0.0, 0.0, 0.0, 0.0, 1.0, 0.0, 0.0, 0.0, 0.0, 0.0, 0.0, 0.0, 0.0, 0.0, 0.0, 2.0, 2.0, 0.0, 0.0, 0.0, 0.0, 1.0, 0.0, 0.0, 1.0, 1.0, 1.0, 0.0, 1.0, 0.0, 0.0, 0.0, 0.0, 0.0]),\n",
       " DenseVector([0.0, 236.0, 1228.0, 0.0, 0.0, 0.0, 0.0, 0.0, 1.0, 0.0, 0.0, 0.0, 0.0, 0.0, 0.0, 0.0, 0.0, 0.0, 0.0, 1.0, 1.0, 0.0, 0.0, 0.0, 0.0, 1.0, 0.0, 0.0, 2.0, 2.0, 1.0, 0.0, 0.5, 0.0, 0.0, 0.0, 0.0, 0.0]),\n",
       " DenseVector([0.0, 233.0, 2032.0, 0.0, 0.0, 0.0, 0.0, 0.0, 1.0, 0.0, 0.0, 0.0, 0.0, 0.0, 0.0, 0.0, 0.0, 0.0, 0.0, 2.0, 2.0, 0.0, 0.0, 0.0, 0.0, 1.0, 0.0, 0.0, 3.0, 3.0, 1.0, 0.0, 0.33, 0.0, 0.0, 0.0, 0.0, 0.0]),\n",
       " DenseVector([0.0, 239.0, 486.0, 0.0, 0.0, 0.0, 0.0, 0.0, 1.0, 0.0, 0.0, 0.0, 0.0, 0.0, 0.0, 0.0, 0.0, 0.0, 0.0, 3.0, 3.0, 0.0, 0.0, 0.0, 0.0, 1.0, 0.0, 0.0, 4.0, 4.0, 1.0, 0.0, 0.25, 0.0, 0.0, 0.0, 0.0, 0.0])]"
      ]
     },
     "execution_count": 11,
     "metadata": {},
     "output_type": "execute_result"
    }
   ],
   "source": [
    "data.take(5)"
   ]
  },
  {
   "cell_type": "code",
   "execution_count": 12,
   "metadata": {
    "collapsed": true
   },
   "outputs": [],
   "source": [
    "from pyspark.mllib.clustering import KMeans"
   ]
  },
  {
   "cell_type": "markdown",
   "metadata": {},
   "source": [
    "Run with k-means clustering"
   ]
  },
  {
   "cell_type": "code",
   "execution_count": 13,
   "metadata": {
    "collapsed": false
   },
   "outputs": [],
   "source": [
    "kmeans = KMeans()\n",
    "model = kmeans.train(data, 2)"
   ]
  },
  {
   "cell_type": "code",
   "execution_count": 14,
   "metadata": {
    "collapsed": false
   },
   "outputs": [
    {
     "data": {
      "text/plain": [
       "[array([  4.83401949e+01,   1.83462155e+03,   8.26203190e+02,\n",
       "          5.71611720e-06,   6.48779303e-04,   7.96173468e-06,\n",
       "          1.24376586e-02,   3.20510858e-05,   1.43529049e-01,\n",
       "          8.08830584e-03,   6.81851124e-05,   3.67464677e-05,\n",
       "          1.29349608e-02,   1.18874823e-03,   7.43095237e-05,\n",
       "          1.02114351e-03,   0.00000000e+00,   4.08294086e-07,\n",
       "          8.35165553e-04,   3.34973508e+02,   2.95267146e+02,\n",
       "          1.77970317e-01,   1.78036989e-01,   5.76648988e-02,\n",
       "          5.77299094e-02,   7.89884132e-01,   2.11796106e-02,\n",
       "          2.82608101e-02,   2.32981078e+02,   1.89214283e+02,\n",
       "          7.53713390e-01,   3.07109788e-02,   6.05051931e-01,\n",
       "          6.46410789e-03,   1.78091184e-01,   1.77885898e-01,\n",
       "          5.79276115e-02,   5.76592214e-02]),\n",
       " array([  1.09990000e+04,   0.00000000e+00,   1.30993740e+09,\n",
       "          0.00000000e+00,   0.00000000e+00,   0.00000000e+00,\n",
       "          0.00000000e+00,   0.00000000e+00,   0.00000000e+00,\n",
       "          0.00000000e+00,   0.00000000e+00,   0.00000000e+00,\n",
       "          0.00000000e+00,   0.00000000e+00,   0.00000000e+00,\n",
       "          0.00000000e+00,   0.00000000e+00,   0.00000000e+00,\n",
       "          0.00000000e+00,   1.00000000e+00,   1.00000000e+00,\n",
       "          0.00000000e+00,   0.00000000e+00,   1.00000000e+00,\n",
       "          1.00000000e+00,   1.00000000e+00,   0.00000000e+00,\n",
       "          0.00000000e+00,   2.55000000e+02,   1.00000000e+00,\n",
       "          0.00000000e+00,   6.50000000e-01,   1.00000000e+00,\n",
       "          0.00000000e+00,   0.00000000e+00,   0.00000000e+00,\n",
       "          1.00000000e+00,   1.00000000e+00])]"
      ]
     },
     "execution_count": 14,
     "metadata": {},
     "output_type": "execute_result"
    }
   ],
   "source": [
    "model.clusterCenters"
   ]
  },
  {
   "cell_type": "code",
   "execution_count": 15,
   "metadata": {
    "collapsed": true
   },
   "outputs": [],
   "source": [
    "def clusterLabelCount(label, data):\n",
    "    cluster = model.predict(data)\n",
    "    return (cluster, label)"
   ]
  },
  {
   "cell_type": "code",
   "execution_count": 16,
   "metadata": {
    "collapsed": false
   },
   "outputs": [],
   "source": [
    "cluster_label_count = labels_and_data.map(lambda x: clusterLabelCount(x[0], x[1])).countByValue()"
   ]
  },
  {
   "cell_type": "code",
   "execution_count": 17,
   "metadata": {
    "collapsed": false
   },
   "outputs": [
    {
     "data": {
      "text/plain": [
       "defaultdict(int,\n",
       "            {(0, u'back.'): 2203,\n",
       "             (0, u'buffer_overflow.'): 30,\n",
       "             (0, u'ftp_write.'): 8,\n",
       "             (0, u'guess_passwd.'): 53,\n",
       "             (0, u'imap.'): 12,\n",
       "             (0, u'ipsweep.'): 12481,\n",
       "             (0, u'land.'): 21,\n",
       "             (0, u'loadmodule.'): 9,\n",
       "             (0, u'multihop.'): 7,\n",
       "             (0, u'neptune.'): 1072017,\n",
       "             (0, u'nmap.'): 2316,\n",
       "             (0, u'normal.'): 972781,\n",
       "             (0, u'perl.'): 3,\n",
       "             (0, u'phf.'): 4,\n",
       "             (0, u'pod.'): 264,\n",
       "             (0, u'portsweep.'): 10412,\n",
       "             (0, u'rootkit.'): 10,\n",
       "             (0, u'satan.'): 15892,\n",
       "             (0, u'smurf.'): 2807886,\n",
       "             (0, u'spy.'): 2,\n",
       "             (0, u'teardrop.'): 979,\n",
       "             (0, u'warezclient.'): 1020,\n",
       "             (0, u'warezmaster.'): 20,\n",
       "             (1, u'portsweep.'): 1})"
      ]
     },
     "execution_count": 17,
     "metadata": {},
     "output_type": "execute_result"
    }
   ],
   "source": [
    "cluster_label_count"
   ]
  },
  {
   "cell_type": "code",
   "execution_count": 18,
   "metadata": {
    "collapsed": true
   },
   "outputs": [],
   "source": [
    "cluster = model.predict(data)"
   ]
  },
  {
   "cell_type": "code",
   "execution_count": 19,
   "metadata": {
    "collapsed": false
   },
   "outputs": [],
   "source": [
    "import numpy as np\n",
    "\n",
    "def distance(a, b):\n",
    "    return np.linalg.norm(a - b)\n",
    "\n",
    "def dist_to_centroid(data, model):\n",
    "    cluster = model.predict(data)\n",
    "    centroid = model.clusterCenters[cluster]\n",
    "    return distance(centroid, data)\n",
    "\n",
    "def clustering_score(data, k):\n",
    "    kmeans = KMeans()\n",
    "    model = kmeans.train(data, k)\n",
    "    result = data.map(lambda data: dist_to_centroid(data, model))\n",
    "    return result.mean()"
   ]
  },
  {
   "cell_type": "code",
   "execution_count": 20,
   "metadata": {
    "collapsed": true
   },
   "outputs": [],
   "source": [
    "all_distances = [(k, clustering_score(data, k)) for k in range(1, 4)]"
   ]
  },
  {
   "cell_type": "code",
   "execution_count": 21,
   "metadata": {
    "collapsed": false
   },
   "outputs": [
    {
     "data": {
      "text/plain": [
       "[(1, 3826.5608567244853), (2, 3423.2242956547939), (3, 2440.7204258974753)]"
      ]
     },
     "execution_count": 21,
     "metadata": {},
     "output_type": "execute_result"
    }
   ],
   "source": [
    "all_distances"
   ]
  },
  {
   "cell_type": "markdown",
   "metadata": {},
   "source": [
    "Run with different hyperparameters, k=100"
   ]
  },
  {
   "cell_type": "code",
   "execution_count": 22,
   "metadata": {
    "collapsed": true
   },
   "outputs": [],
   "source": [
    "# kmeans.train(data, 100, runs=10, epsilon=1e-6)\n",
    "\n",
    "# result = data.map(lambda data: dist_to_centroid(data, model))\n",
    "\n",
    "# distance = result.mean()"
   ]
  }
 ],
 "metadata": {
  "kernelspec": {
   "display_name": "Python 2",
   "language": "python",
   "name": "python2"
  },
  "language_info": {
   "codemirror_mode": {
    "name": "ipython",
    "version": 2
   },
   "file_extension": ".py",
   "mimetype": "text/x-python",
   "name": "python",
   "nbconvert_exporter": "python",
   "pygments_lexer": "ipython2",
   "version": "2.7.11"
  }
 },
 "nbformat": 4,
 "nbformat_minor": 0
}
