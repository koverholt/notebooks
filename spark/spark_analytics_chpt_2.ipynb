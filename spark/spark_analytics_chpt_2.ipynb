{
 "cells": [
  {
   "cell_type": "code",
   "execution_count": 1,
   "metadata": {
    "collapsed": true
   },
   "outputs": [],
   "source": [
    "from pyspark import SparkConf\n",
    "from pyspark import SparkContext"
   ]
  },
  {
   "cell_type": "code",
   "execution_count": 2,
   "metadata": {
    "collapsed": false
   },
   "outputs": [],
   "source": [
    "conf = SparkConf()\n",
    "conf.setMaster('spark://ip-172-31-9-200:7077')\n",
    "conf.setAppName('spark_analytics_chpt_2')\n",
    "conf.set(\"spark.executor.memory\", \"10g\")\n",
    "sc = SparkContext(conf=conf)"
   ]
  },
  {
   "cell_type": "markdown",
   "metadata": {},
   "source": [
    "Data from https://archive.ics.uci.edu/ml/machine-learning-databases/00210/donation.zip"
   ]
  },
  {
   "cell_type": "code",
   "execution_count": 3,
   "metadata": {
    "collapsed": false
   },
   "outputs": [],
   "source": [
    "rawblocks = sc.textFile('linkage/')"
   ]
  },
  {
   "cell_type": "code",
   "execution_count": 4,
   "metadata": {
    "collapsed": false
   },
   "outputs": [
    {
     "data": {
      "text/plain": [
       "u'\"id_1\",\"id_2\",\"cmp_fname_c1\",\"cmp_fname_c2\",\"cmp_lname_c1\",\"cmp_lname_c2\",\"cmp_sex\",\"cmp_bd\",\"cmp_bm\",\"cmp_by\",\"cmp_plz\",\"is_match\"'"
      ]
     },
     "execution_count": 4,
     "metadata": {},
     "output_type": "execute_result"
    }
   ],
   "source": [
    "rawblocks.first()"
   ]
  },
  {
   "cell_type": "code",
   "execution_count": 5,
   "metadata": {
    "collapsed": false
   },
   "outputs": [
    {
     "data": {
      "text/plain": [
       "[u'\"id_1\",\"id_2\",\"cmp_fname_c1\",\"cmp_fname_c2\",\"cmp_lname_c1\",\"cmp_lname_c2\",\"cmp_sex\",\"cmp_bd\",\"cmp_bm\",\"cmp_by\",\"cmp_plz\",\"is_match\"',\n",
       " u'37291,53113,0.833333333333333,?,1,?,1,1,1,1,0,TRUE',\n",
       " u'39086,47614,1,?,1,?,1,1,1,1,1,TRUE',\n",
       " u'70031,70237,1,?,1,?,1,1,1,1,1,TRUE',\n",
       " u'84795,97439,1,?,1,?,1,1,1,1,1,TRUE',\n",
       " u'36950,42116,1,?,1,1,1,1,1,1,1,TRUE',\n",
       " u'42413,48491,1,?,1,?,1,1,1,1,1,TRUE',\n",
       " u'25965,64753,1,?,1,?,1,1,1,1,1,TRUE',\n",
       " u'49451,90407,1,?,1,?,1,1,1,1,0,TRUE',\n",
       " u'39932,40902,1,?,1,?,1,1,1,1,1,TRUE']"
      ]
     },
     "execution_count": 5,
     "metadata": {},
     "output_type": "execute_result"
    }
   ],
   "source": [
    "rawblocks.take(10)"
   ]
  },
  {
   "cell_type": "code",
   "execution_count": 6,
   "metadata": {
    "collapsed": false
   },
   "outputs": [
    {
     "data": {
      "text/plain": [
       "5749142"
      ]
     },
     "execution_count": 6,
     "metadata": {},
     "output_type": "execute_result"
    }
   ],
   "source": [
    "rawblocks.count()"
   ]
  },
  {
   "cell_type": "code",
   "execution_count": 7,
   "metadata": {
    "collapsed": false
   },
   "outputs": [],
   "source": [
    "noheader = rawblocks.filter(lambda line: 'id_1' not in line)"
   ]
  },
  {
   "cell_type": "code",
   "execution_count": 8,
   "metadata": {
    "collapsed": false
   },
   "outputs": [
    {
     "data": {
      "text/plain": [
       "u'37291,53113,0.833333333333333,?,1,?,1,1,1,1,0,TRUE'"
      ]
     },
     "execution_count": 8,
     "metadata": {},
     "output_type": "execute_result"
    }
   ],
   "source": [
    "noheader.first()"
   ]
  },
  {
   "cell_type": "code",
   "execution_count": 9,
   "metadata": {
    "collapsed": false
   },
   "outputs": [],
   "source": [
    "from itertools import chain\n",
    "\n",
    "def toBool(s):\n",
    "    if 'TRUE' in s:\n",
    "        return True\n",
    "    if 'FALSE' in s:\n",
    "        return False\n",
    "\n",
    "def toFloat(s):\n",
    "    if '?' in s:\n",
    "        return float('nan')\n",
    "    else:\n",
    "        return float(s)\n",
    "\n",
    "def parse(line):\n",
    "    pieces = line.split(',')\n",
    "    id1 = int(pieces[0])\n",
    "    id2 = int(pieces[1])\n",
    "    scores = [toFloat(x) for x in pieces[2:11]]\n",
    "    matched = toBool(pieces[11])\n",
    "    merged = [[id1], [id2], scores, [matched]]\n",
    "    return list(chain(*merged))"
   ]
  },
  {
   "cell_type": "code",
   "execution_count": 10,
   "metadata": {
    "collapsed": false
   },
   "outputs": [],
   "source": [
    "md = noheader.map(parse)"
   ]
  },
  {
   "cell_type": "code",
   "execution_count": 11,
   "metadata": {
    "collapsed": false
   },
   "outputs": [
    {
     "data": {
      "text/plain": [
       "[[37291,\n",
       "  53113,\n",
       "  0.833333333333333,\n",
       "  nan,\n",
       "  1.0,\n",
       "  nan,\n",
       "  1.0,\n",
       "  1.0,\n",
       "  1.0,\n",
       "  1.0,\n",
       "  0.0,\n",
       "  True],\n",
       " [39086, 47614, 1.0, nan, 1.0, nan, 1.0, 1.0, 1.0, 1.0, 1.0, True],\n",
       " [70031, 70237, 1.0, nan, 1.0, nan, 1.0, 1.0, 1.0, 1.0, 1.0, True],\n",
       " [84795, 97439, 1.0, nan, 1.0, nan, 1.0, 1.0, 1.0, 1.0, 1.0, True],\n",
       " [36950, 42116, 1.0, nan, 1.0, 1.0, 1.0, 1.0, 1.0, 1.0, 1.0, True],\n",
       " [42413, 48491, 1.0, nan, 1.0, nan, 1.0, 1.0, 1.0, 1.0, 1.0, True],\n",
       " [25965, 64753, 1.0, nan, 1.0, nan, 1.0, 1.0, 1.0, 1.0, 1.0, True],\n",
       " [49451, 90407, 1.0, nan, 1.0, nan, 1.0, 1.0, 1.0, 1.0, 0.0, True],\n",
       " [39932, 40902, 1.0, nan, 1.0, nan, 1.0, 1.0, 1.0, 1.0, 1.0, True],\n",
       " [46626, 47940, 1.0, nan, 1.0, nan, 1.0, 1.0, 1.0, 1.0, 1.0, True]]"
      ]
     },
     "execution_count": 11,
     "metadata": {},
     "output_type": "execute_result"
    }
   ],
   "source": [
    "md.take(10)"
   ]
  },
  {
   "cell_type": "code",
   "execution_count": 12,
   "metadata": {
    "collapsed": false
   },
   "outputs": [
    {
     "data": {
      "text/plain": [
       "defaultdict(int, {False: 5728201, True: 20931})"
      ]
     },
     "execution_count": 12,
     "metadata": {},
     "output_type": "execute_result"
    }
   ],
   "source": [
    "md.map(lambda x: x[11]).countByValue()"
   ]
  },
  {
   "cell_type": "code",
   "execution_count": 13,
   "metadata": {
    "collapsed": false
   },
   "outputs": [
    {
     "data": {
      "text/plain": [
       "(count: 5748125, mean: 0.712902470443, stdev: 0.3887583258, max: 1.0, min: 0.0)"
      ]
     },
     "execution_count": 13,
     "metadata": {},
     "output_type": "execute_result"
    }
   ],
   "source": [
    "import math\n",
    "md.map(lambda x: x[2]).filter(lambda x: not math.isnan(x)).stats()"
   ]
  },
  {
   "cell_type": "code",
   "execution_count": 14,
   "metadata": {
    "collapsed": false
   },
   "outputs": [
    {
     "data": {
      "text/plain": [
       "(count: 103698, mean: 0.90001767189, stdev: 0.271316302365, max: 1.0, min: 0.0)"
      ]
     },
     "execution_count": 14,
     "metadata": {},
     "output_type": "execute_result"
    }
   ],
   "source": [
    "md.map(lambda x: x[3]).filter(lambda x: not math.isnan(x)).stats()"
   ]
  },
  {
   "cell_type": "code",
   "execution_count": 15,
   "metadata": {
    "collapsed": false
   },
   "outputs": [
    {
     "data": {
      "text/plain": [
       "(count: 5736289, mean: 0.00552866147434, stdev: 0.074149142791, max: 1.0, min: 0.0)"
      ]
     },
     "execution_count": 15,
     "metadata": {},
     "output_type": "execute_result"
    }
   ],
   "source": [
    "md.map(lambda x: x[10]).filter(lambda x: not math.isnan(x)).stats()"
   ]
  }
 ],
 "metadata": {
  "kernelspec": {
   "display_name": "Python 2",
   "language": "python",
   "name": "python2"
  },
  "language_info": {
   "codemirror_mode": {
    "name": "ipython",
    "version": 2
   },
   "file_extension": ".py",
   "mimetype": "text/x-python",
   "name": "python",
   "nbconvert_exporter": "python",
   "pygments_lexer": "ipython2",
   "version": "2.7.11"
  }
 },
 "nbformat": 4,
 "nbformat_minor": 0
}
