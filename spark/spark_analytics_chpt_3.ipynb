{
 "cells": [
  {
   "cell_type": "code",
   "execution_count": 1,
   "metadata": {
    "collapsed": true
   },
   "outputs": [],
   "source": [
    "from pyspark import SparkConf\n",
    "from pyspark import SparkContext"
   ]
  },
  {
   "cell_type": "code",
   "execution_count": 2,
   "metadata": {
    "collapsed": true
   },
   "outputs": [],
   "source": [
    "conf = SparkConf()\n",
    "conf.setMaster('spark://ip-172-31-9-200:7077')\n",
    "conf.setAppName('spark_analytics_chpt_3')\n",
    "conf.set(\"spark.executor.memory\", \"10g\")\n",
    "sc = SparkContext(conf=conf)"
   ]
  },
  {
   "cell_type": "markdown",
   "metadata": {},
   "source": [
    "Data from http://www-etud.iro.umontreal.ca/~bergstrj/audioscrobbler_data.html"
   ]
  },
  {
   "cell_type": "code",
   "execution_count": 3,
   "metadata": {
    "collapsed": true
   },
   "outputs": [],
   "source": [
    "user_artist_data = sc.textFile('user_artist_data.txt', 12)\n",
    "artist_data = sc.textFile('artist_data.txt')\n",
    "artist_alias = sc.textFile('artist_alias.txt')"
   ]
  },
  {
   "cell_type": "code",
   "execution_count": 4,
   "metadata": {
    "collapsed": false
   },
   "outputs": [
    {
     "data": {
      "text/plain": [
       "[u'1000002 1 55',\n",
       " u'1000002 1000006 33',\n",
       " u'1000002 1000007 8',\n",
       " u'1000002 1000009 144',\n",
       " u'1000002 1000010 314',\n",
       " u'1000002 1000013 8',\n",
       " u'1000002 1000014 42',\n",
       " u'1000002 1000017 69',\n",
       " u'1000002 1000024 329',\n",
       " u'1000002 1000025 1']"
      ]
     },
     "execution_count": 4,
     "metadata": {},
     "output_type": "execute_result"
    }
   ],
   "source": [
    "user_artist_data.take(10)"
   ]
  },
  {
   "cell_type": "code",
   "execution_count": 5,
   "metadata": {
    "collapsed": false
   },
   "outputs": [
    {
     "data": {
      "text/plain": [
       "[u'1134999\\t06Crazy Life',\n",
       " u'6821360\\tPang Nakarin',\n",
       " u'10113088\\tTerfel, Bartoli- Mozart: Don',\n",
       " u'10151459\\tThe Flaming Sidebur',\n",
       " u'6826647\\tBodenstandig 3000',\n",
       " u'10186265\\tJota Quest e Ivete Sangalo',\n",
       " u'6828986\\tToto_XX (1977',\n",
       " u'10236364\\tU.S Bombs -',\n",
       " u'1135000\\tartist formaly know as Mat',\n",
       " u'10299728\\tKassierer - Musik f\\xfcr beide Ohren']"
      ]
     },
     "execution_count": 5,
     "metadata": {},
     "output_type": "execute_result"
    }
   ],
   "source": [
    "artist_data.take(10)"
   ]
  },
  {
   "cell_type": "code",
   "execution_count": 6,
   "metadata": {
    "collapsed": false
   },
   "outputs": [
    {
     "data": {
      "text/plain": [
       "[u'1092764\\t1000311',\n",
       " u'1095122\\t1000557',\n",
       " u'6708070\\t1007267',\n",
       " u'10088054\\t1042317',\n",
       " u'1195917\\t1042317',\n",
       " u'1112006\\t1000557',\n",
       " u'1187350\\t1294511',\n",
       " u'1116694\\t1327092',\n",
       " u'6793225\\t1042317',\n",
       " u'1079959\\t1000557']"
      ]
     },
     "execution_count": 6,
     "metadata": {},
     "output_type": "execute_result"
    }
   ],
   "source": [
    "artist_alias.take(10)"
   ]
  },
  {
   "cell_type": "code",
   "execution_count": 7,
   "metadata": {
    "collapsed": false
   },
   "outputs": [
    {
     "data": {
      "text/plain": [
       "(count: 24296858, mean: 1947573.26535, stdev: 496000.544975, max: 2443548.0, min: 90.0)"
      ]
     },
     "execution_count": 7,
     "metadata": {},
     "output_type": "execute_result"
    }
   ],
   "source": [
    "user_artist_data.map(lambda x: int(x.split(' ')[0])).stats()"
   ]
  },
  {
   "cell_type": "code",
   "execution_count": 8,
   "metadata": {
    "collapsed": false
   },
   "outputs": [
    {
     "data": {
      "text/plain": [
       "(count: 24296858, mean: 1718704.09376, stdev: 2539389.04017, max: 10794401.0, min: 1.0)"
      ]
     },
     "execution_count": 8,
     "metadata": {},
     "output_type": "execute_result"
    }
   ],
   "source": [
    "user_artist_data.map(lambda x: int(x.split(' ')[1])).stats()"
   ]
  },
  {
   "cell_type": "code",
   "execution_count": 9,
   "metadata": {
    "collapsed": false
   },
   "outputs": [
    {
     "data": {
      "text/plain": [
       "[[u'1134999', u'06Crazy Life'],\n",
       " [u'6821360', u'Pang Nakarin'],\n",
       " [u'10113088', u'Terfel, Bartoli- Mozart: Don'],\n",
       " [u'10151459', u'The Flaming Sidebur'],\n",
       " [u'6826647', u'Bodenstandig 3000'],\n",
       " [u'10186265', u'Jota Quest e Ivete Sangalo'],\n",
       " [u'6828986', u'Toto_XX (1977'],\n",
       " [u'10236364', u'U.S Bombs -'],\n",
       " [u'1135000', u'artist formaly know as Mat'],\n",
       " [u'10299728', u'Kassierer - Musik f\\xfcr beide Ohren']]"
      ]
     },
     "execution_count": 9,
     "metadata": {},
     "output_type": "execute_result"
    }
   ],
   "source": [
    "artist_data.map(lambda x: x.split('\\t')).take(10)"
   ]
  },
  {
   "cell_type": "code",
   "execution_count": 10,
   "metadata": {
    "collapsed": false
   },
   "outputs": [
    {
     "data": {
      "text/plain": [
       "[[u'1092764', u'1000311'],\n",
       " [u'1095122', u'1000557'],\n",
       " [u'6708070', u'1007267'],\n",
       " [u'10088054', u'1042317'],\n",
       " [u'1195917', u'1042317'],\n",
       " [u'1112006', u'1000557'],\n",
       " [u'1187350', u'1294511'],\n",
       " [u'1116694', u'1327092'],\n",
       " [u'6793225', u'1042317'],\n",
       " [u'1079959', u'1000557']]"
      ]
     },
     "execution_count": 10,
     "metadata": {},
     "output_type": "execute_result"
    }
   ],
   "source": [
    "artist_alias.map(lambda x: x.split('\\t')).take(10)"
   ]
  },
  {
   "cell_type": "code",
   "execution_count": 11,
   "metadata": {
    "collapsed": false
   },
   "outputs": [],
   "source": [
    "from pyspark.mllib import recommendation"
   ]
  },
  {
   "cell_type": "code",
   "execution_count": 12,
   "metadata": {
    "collapsed": false
   },
   "outputs": [],
   "source": [
    "recommendation.Rating?"
   ]
  }
 ],
 "metadata": {
  "kernelspec": {
   "display_name": "Python 2",
   "language": "python",
   "name": "python2"
  },
  "language_info": {
   "codemirror_mode": {
    "name": "ipython",
    "version": 2
   },
   "file_extension": ".py",
   "mimetype": "text/x-python",
   "name": "python",
   "nbconvert_exporter": "python",
   "pygments_lexer": "ipython2",
   "version": "2.7.11"
  }
 },
 "nbformat": 4,
 "nbformat_minor": 0
}
