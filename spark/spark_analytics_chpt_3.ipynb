{
 "cells": [
  {
   "cell_type": "code",
   "execution_count": 1,
   "metadata": {
    "collapsed": true
   },
   "outputs": [],
   "source": [
    "from pyspark import SparkConf\n",
    "from pyspark import SparkContext"
   ]
  },
  {
   "cell_type": "code",
   "execution_count": 2,
   "metadata": {
    "collapsed": true
   },
   "outputs": [],
   "source": [
    "conf = SparkConf()\n",
    "conf.setMaster('spark://ip-172-31-9-200:7077')\n",
    "conf.setAppName('spark_analytics_chpt_3')\n",
    "conf.set(\"spark.executor.memory\", \"10g\")\n",
    "sc = SparkContext(conf=conf)"
   ]
  },
  {
   "cell_type": "markdown",
   "metadata": {},
   "source": [
    "Data from http://www-etud.iro.umontreal.ca/~bergstrj/audioscrobbler_data.html"
   ]
  },
  {
   "cell_type": "code",
   "execution_count": 3,
   "metadata": {
    "collapsed": true
   },
   "outputs": [],
   "source": [
    "raw_user_artist_data = sc.textFile('user_artist_data.txt', 12)\n",
    "raw_artist_data = sc.textFile('artist_data.txt')\n",
    "raw_artist_alias = sc.textFile('artist_alias.txt')"
   ]
  },
  {
   "cell_type": "code",
   "execution_count": 4,
   "metadata": {
    "collapsed": false
   },
   "outputs": [
    {
     "data": {
      "text/plain": [
       "[u'1000002 1 55',\n",
       " u'1000002 1000006 33',\n",
       " u'1000002 1000007 8',\n",
       " u'1000002 1000009 144',\n",
       " u'1000002 1000010 314']"
      ]
     },
     "execution_count": 4,
     "metadata": {},
     "output_type": "execute_result"
    }
   ],
   "source": [
    "raw_user_artist_data.take(5)"
   ]
  },
  {
   "cell_type": "code",
   "execution_count": 5,
   "metadata": {
    "collapsed": false
   },
   "outputs": [
    {
     "data": {
      "text/plain": [
       "[u'1134999\\t06Crazy Life',\n",
       " u'6821360\\tPang Nakarin',\n",
       " u'10113088\\tTerfel, Bartoli- Mozart: Don',\n",
       " u'10151459\\tThe Flaming Sidebur',\n",
       " u'6826647\\tBodenstandig 3000']"
      ]
     },
     "execution_count": 5,
     "metadata": {},
     "output_type": "execute_result"
    }
   ],
   "source": [
    "raw_artist_data.take(5)"
   ]
  },
  {
   "cell_type": "code",
   "execution_count": 6,
   "metadata": {
    "collapsed": false
   },
   "outputs": [
    {
     "data": {
      "text/plain": [
       "[u'1092764\\t1000311',\n",
       " u'1095122\\t1000557',\n",
       " u'6708070\\t1007267',\n",
       " u'10088054\\t1042317',\n",
       " u'1195917\\t1042317']"
      ]
     },
     "execution_count": 6,
     "metadata": {},
     "output_type": "execute_result"
    }
   ],
   "source": [
    "raw_artist_alias.take(5)"
   ]
  },
  {
   "cell_type": "code",
   "execution_count": 7,
   "metadata": {
    "collapsed": false
   },
   "outputs": [
    {
     "data": {
      "text/plain": [
       "(count: 24296858, mean: 1947573.26535, stdev: 496000.544975, max: 2443548.0, min: 90.0)"
      ]
     },
     "execution_count": 7,
     "metadata": {},
     "output_type": "execute_result"
    }
   ],
   "source": [
    "raw_user_artist_data.map(lambda x: int(x.split(' ')[0])).stats()"
   ]
  },
  {
   "cell_type": "code",
   "execution_count": 8,
   "metadata": {
    "collapsed": false
   },
   "outputs": [
    {
     "data": {
      "text/plain": [
       "(count: 24296858, mean: 1718704.09376, stdev: 2539389.04017, max: 10794401.0, min: 1.0)"
      ]
     },
     "execution_count": 8,
     "metadata": {},
     "output_type": "execute_result"
    }
   ],
   "source": [
    "raw_user_artist_data.map(lambda x: int(x.split(' ')[1])).stats()"
   ]
  },
  {
   "cell_type": "code",
   "execution_count": 9,
   "metadata": {
    "collapsed": true
   },
   "outputs": [],
   "source": [
    "def clean_artist_data(s):\n",
    "    if '\\t' in s:\n",
    "        try:\n",
    "            artist_id = int(s.split('\\t')[0])\n",
    "            artist = s.split('\\t')[1].strip()\n",
    "            return [artist_id, artist]\n",
    "        except:\n",
    "            return [0, None]\n",
    "    else:\n",
    "        return [0, None]"
   ]
  },
  {
   "cell_type": "code",
   "execution_count": 10,
   "metadata": {
    "collapsed": false
   },
   "outputs": [],
   "source": [
    "artist_by_id = raw_artist_data.map(clean_artist_data)"
   ]
  },
  {
   "cell_type": "code",
   "execution_count": 11,
   "metadata": {
    "collapsed": false
   },
   "outputs": [
    {
     "data": {
      "text/plain": [
       "[[1134999, u'06Crazy Life'],\n",
       " [6821360, u'Pang Nakarin'],\n",
       " [10113088, u'Terfel, Bartoli- Mozart: Don'],\n",
       " [10151459, u'The Flaming Sidebur'],\n",
       " [6826647, u'Bodenstandig 3000']]"
      ]
     },
     "execution_count": 11,
     "metadata": {},
     "output_type": "execute_result"
    }
   ],
   "source": [
    "artist_by_id.take(5)"
   ]
  },
  {
   "cell_type": "code",
   "execution_count": 12,
   "metadata": {
    "collapsed": true
   },
   "outputs": [],
   "source": [
    "def clean_artist_alias(s):\n",
    "    if '\\t' in s:\n",
    "        try:\n",
    "            bad = int(s.split('\\t')[0])\n",
    "            good = int(s.split('\\t')[1])\n",
    "            return [bad, good]\n",
    "        except:\n",
    "            return [0, 0]\n",
    "    else:\n",
    "        return [0, 0]"
   ]
  },
  {
   "cell_type": "code",
   "execution_count": 13,
   "metadata": {
    "collapsed": false
   },
   "outputs": [],
   "source": [
    "artist_alias = raw_artist_alias.map(clean_artist_alias) \\\n",
    "                               .collectAsMap()"
   ]
  },
  {
   "cell_type": "code",
   "execution_count": 14,
   "metadata": {
    "collapsed": false
   },
   "outputs": [],
   "source": [
    "from pyspark.mllib.recommendation import Rating\n",
    "\n",
    "def generate_training_data(line):\n",
    "    user_id, artist_id, count = [int(y) for y in line.split(' ')]\n",
    "    final_artist_id = artist_alias.get(artist_id, artist_id)  # Get canonical artist ID if it exists\n",
    "    return Rating(user_id, final_artist_id, count)"
   ]
  },
  {
   "cell_type": "code",
   "execution_count": 15,
   "metadata": {
    "collapsed": false
   },
   "outputs": [],
   "source": [
    "training_data = raw_user_artist_data.map(generate_training_data).cache()"
   ]
  },
  {
   "cell_type": "code",
   "execution_count": 16,
   "metadata": {
    "collapsed": false
   },
   "outputs": [
    {
     "data": {
      "text/plain": [
       "[Rating(user=1000002, product=1, rating=55.0),\n",
       " Rating(user=1000002, product=1000006, rating=33.0),\n",
       " Rating(user=1000002, product=1000007, rating=8.0),\n",
       " Rating(user=1000002, product=1000009, rating=144.0),\n",
       " Rating(user=1000002, product=1000010, rating=314.0),\n",
       " Rating(user=1000002, product=1000013, rating=8.0),\n",
       " Rating(user=1000002, product=1000014, rating=42.0),\n",
       " Rating(user=1000002, product=1000017, rating=69.0),\n",
       " Rating(user=1000002, product=1000024, rating=329.0),\n",
       " Rating(user=1000002, product=1000025, rating=1.0)]"
      ]
     },
     "execution_count": 16,
     "metadata": {},
     "output_type": "execute_result"
    }
   ],
   "source": [
    "training_data.take(10)"
   ]
  },
  {
   "cell_type": "code",
   "execution_count": 17,
   "metadata": {
    "collapsed": false
   },
   "outputs": [],
   "source": [
    "from pyspark.mllib.recommendation import ALS"
   ]
  },
  {
   "cell_type": "code",
   "execution_count": 18,
   "metadata": {
    "collapsed": false
   },
   "outputs": [],
   "source": [
    "model = ALS.trainImplicit(training_data, rank=10, iterations=5, lambda_=0.01, alpha=1.0)"
   ]
  },
  {
   "cell_type": "code",
   "execution_count": 19,
   "metadata": {
    "collapsed": false
   },
   "outputs": [
    {
     "data": {
      "text/plain": [
       "(120,\n",
       " [\"array('d'\",\n",
       "  ' [-0.08928482979536057',\n",
       "  ' -0.18168248236179352',\n",
       "  ' 0.04558441787958145',\n",
       "  ' 0.20511680841445923',\n",
       "  ' -0.1506977677345276',\n",
       "  ' 0.051154762506484985',\n",
       "  ' 0.23714230954647064',\n",
       "  ' -0.12505264580249786',\n",
       "  ' -0.15268318355083466',\n",
       "  ' 0.053666628897190094])'])"
      ]
     },
     "execution_count": 19,
     "metadata": {},
     "output_type": "execute_result"
    }
   ],
   "source": [
    "model.userFeatures().mapValues(lambda x: str(x).split(',')).first()"
   ]
  },
  {
   "cell_type": "markdown",
   "metadata": {},
   "source": [
    "Check the recommendations"
   ]
  },
  {
   "cell_type": "code",
   "execution_count": 20,
   "metadata": {
    "collapsed": false
   },
   "outputs": [],
   "source": [
    "raw_artists_for_user = raw_user_artist_data.map(lambda x: x.split(' ')) \\\n",
    "                                           .filter(lambda x: x[0] == '2093760') \\\n",
    "                                           .map(lambda x: int(x[1]))"
   ]
  },
  {
   "cell_type": "code",
   "execution_count": 21,
   "metadata": {
    "collapsed": false
   },
   "outputs": [],
   "source": [
    "existing_products = set(raw_artists_for_user.collect())"
   ]
  },
  {
   "cell_type": "code",
   "execution_count": 22,
   "metadata": {
    "collapsed": false
   },
   "outputs": [
    {
     "data": {
      "text/plain": [
       "[[1180, u'David Gray'],\n",
       " [378, u'Blackalicious'],\n",
       " [813, u'Jurassic 5'],\n",
       " [1255340, u'The Saw Doctors'],\n",
       " [942, u'Xzibit']]"
      ]
     },
     "execution_count": 22,
     "metadata": {},
     "output_type": "execute_result"
    }
   ],
   "source": [
    "artist_by_id.filter(lambda x: x[0] in existing_products).collect()"
   ]
  },
  {
   "cell_type": "markdown",
   "metadata": {},
   "source": [
    "Make some recommendations"
   ]
  },
  {
   "cell_type": "code",
   "execution_count": 23,
   "metadata": {
    "collapsed": true
   },
   "outputs": [],
   "source": [
    "recommendations = model.recommendProducts(2093760, 5)"
   ]
  },
  {
   "cell_type": "code",
   "execution_count": 24,
   "metadata": {
    "collapsed": false
   },
   "outputs": [
    {
     "data": {
      "text/plain": [
       "[Rating(user=2093760, product=1001819, rating=0.02756638741437349),\n",
       " Rating(user=2093760, product=2814, rating=0.02745091514581488),\n",
       " Rating(user=2093760, product=1300642, rating=0.027437118521924767),\n",
       " Rating(user=2093760, product=1811, rating=0.027202111323623254),\n",
       " Rating(user=2093760, product=1003249, rating=0.027083081810742995)]"
      ]
     },
     "execution_count": 24,
     "metadata": {},
     "output_type": "execute_result"
    }
   ],
   "source": [
    "recommendations"
   ]
  },
  {
   "cell_type": "code",
   "execution_count": 25,
   "metadata": {
    "collapsed": false
   },
   "outputs": [],
   "source": [
    "recommended_product_ids = set([x[1] for x in recommendations])"
   ]
  },
  {
   "cell_type": "code",
   "execution_count": 26,
   "metadata": {
    "collapsed": false
   },
   "outputs": [
    {
     "data": {
      "text/plain": [
       "{1811, 2814, 1001819, 1003249, 1300642}"
      ]
     },
     "execution_count": 26,
     "metadata": {},
     "output_type": "execute_result"
    }
   ],
   "source": [
    "recommended_product_ids"
   ]
  },
  {
   "cell_type": "code",
   "execution_count": 27,
   "metadata": {
    "collapsed": false,
    "scrolled": true
   },
   "outputs": [
    {
     "data": {
      "text/plain": [
       "[[2814, u'50 Cent'],\n",
       " [1811, u'Dr. Dre'],\n",
       " [1003249, u'Ludacris'],\n",
       " [1001819, u'2Pac'],\n",
       " [1300642, u'The Game']]"
      ]
     },
     "execution_count": 27,
     "metadata": {},
     "output_type": "execute_result"
    }
   ],
   "source": [
    "artist_by_id.filter(lambda x: x[0] in recommended_product_ids).collect()"
   ]
  },
  {
   "cell_type": "markdown",
   "metadata": {},
   "source": [
    "TODO: AUC, hyperparameters, more recommendations"
   ]
  }
 ],
 "metadata": {
  "kernelspec": {
   "display_name": "Python 2",
   "language": "python",
   "name": "python2"
  },
  "language_info": {
   "codemirror_mode": {
    "name": "ipython",
    "version": 2
   },
   "file_extension": ".py",
   "mimetype": "text/x-python",
   "name": "python",
   "nbconvert_exporter": "python",
   "pygments_lexer": "ipython2",
   "version": "2.7.11"
  }
 },
 "nbformat": 4,
 "nbformat_minor": 0
}
