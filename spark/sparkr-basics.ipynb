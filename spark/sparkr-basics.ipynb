{
 "cells": [
  {
   "cell_type": "markdown",
   "metadata": {},
   "source": [
    "## Using SparkR with Anaconda\n",
    "\n",
    "Setup:\n",
    "\n",
    "1. Install r-essentials on all cluster nodes via `acluster conda install r-essentials -c r`\n",
    "\n",
    "1. Install IRkernel on head node (https://github.com/IRkernel/IRkernel)\n",
    "\n",
    "1. Add symbolic link from /usr/bin/Rscript to /opt/anaconda/bin/Rscript on all nodes"
   ]
  },
  {
   "cell_type": "markdown",
   "metadata": {},
   "source": [
    "### Set path and import SparkR library"
   ]
  },
  {
   "cell_type": "code",
   "execution_count": 1,
   "metadata": {
    "collapsed": true
   },
   "outputs": [],
   "source": [
    "Sys.setenv(SPARK_HOME='/opt/anaconda/share/spark')\n",
    ".libPaths(c(file.path(Sys.getenv('SPARK_HOME'), 'R', 'lib'), .libPaths()))"
   ]
  },
  {
   "cell_type": "code",
   "execution_count": 2,
   "metadata": {
    "collapsed": false
   },
   "outputs": [
    {
     "name": "stderr",
     "output_type": "stream",
     "text": [
      "\n",
      "Attaching package: 'SparkR'\n",
      "\n",
      "The following objects are masked from 'package:stats':\n",
      "\n",
      "    filter, na.omit\n",
      "\n",
      "The following objects are masked from 'package:base':\n",
      "\n",
      "    intersect, rbind, sample, subset, summary, table, transform\n",
      "\n"
     ]
    }
   ],
   "source": [
    "library(SparkR)"
   ]
  },
  {
   "cell_type": "markdown",
   "metadata": {},
   "source": [
    "### Initialize the SparkContext"
   ]
  },
  {
   "cell_type": "code",
   "execution_count": 3,
   "metadata": {
    "collapsed": false
   },
   "outputs": [
    {
     "name": "stdout",
     "output_type": "stream",
     "text": [
      "Launching java with spark-submit command /opt/anaconda/share/spark/bin/spark-submit   sparkr-shell /tmp/Rtmp7CVgW6/backend_port226960341be9 \n"
     ]
    }
   ],
   "source": [
    "sc <- sparkR.init(\"spark://ip-172-31-9-200:7077\")"
   ]
  },
  {
   "cell_type": "code",
   "execution_count": 4,
   "metadata": {
    "collapsed": false
   },
   "outputs": [],
   "source": [
    "sqlContext <- sparkRSQL.init(sc)"
   ]
  },
  {
   "cell_type": "markdown",
   "metadata": {},
   "source": [
    "### Create a SparkR DataFrame using the `faithful` dataset from R"
   ]
  },
  {
   "cell_type": "code",
   "execution_count": 5,
   "metadata": {
    "collapsed": false
   },
   "outputs": [],
   "source": [
    "df <- createDataFrame(sqlContext, faithful) "
   ]
  },
  {
   "cell_type": "code",
   "execution_count": 6,
   "metadata": {
    "collapsed": false
   },
   "outputs": [
    {
     "data": {
      "text/plain": [
       "DataFrame[eruptions:double, waiting:double]"
      ]
     },
     "execution_count": 6,
     "metadata": {},
     "output_type": "execute_result"
    }
   ],
   "source": [
    "df"
   ]
  },
  {
   "cell_type": "code",
   "execution_count": 7,
   "metadata": {
    "collapsed": false
   },
   "outputs": [
    {
     "data": {
      "text/html": [
       "<table>\n",
       "<thead><tr><th></th><th scope=col>eruptions</th></tr></thead>\n",
       "<tbody>\n",
       "\t<tr><th scope=row>1</th><td>3.6</td></tr>\n",
       "\t<tr><th scope=row>2</th><td>1.8</td></tr>\n",
       "\t<tr><th scope=row>3</th><td>3.333</td></tr>\n",
       "\t<tr><th scope=row>4</th><td>2.283</td></tr>\n",
       "\t<tr><th scope=row>5</th><td>4.533</td></tr>\n",
       "\t<tr><th scope=row>6</th><td>2.883</td></tr>\n",
       "</tbody>\n",
       "</table>\n"
      ],
      "text/latex": [
       "\\begin{tabular}{r|l}\n",
       "  & eruptions\\\\\n",
       "\\hline\n",
       "\t1 & 3.6\\\\\n",
       "\t2 & 1.8\\\\\n",
       "\t3 & 3.333\\\\\n",
       "\t4 & 2.283\\\\\n",
       "\t5 & 4.533\\\\\n",
       "\t6 & 2.883\\\\\n",
       "\\end{tabular}\n"
      ],
      "text/plain": [
       "  eruptions\n",
       "1     3.600\n",
       "2     1.800\n",
       "3     3.333\n",
       "4     2.283\n",
       "5     4.533\n",
       "6     2.883"
      ]
     },
     "execution_count": 7,
     "metadata": {},
     "output_type": "execute_result"
    }
   ],
   "source": [
    "head(select(df, df$eruptions))"
   ]
  },
  {
   "cell_type": "code",
   "execution_count": 8,
   "metadata": {
    "collapsed": false
   },
   "outputs": [
    {
     "data": {
      "text/html": [
       "<table>\n",
       "<thead><tr><th></th><th scope=col>eruptions</th><th scope=col>waiting</th></tr></thead>\n",
       "<tbody>\n",
       "\t<tr><th scope=row>1</th><td>1.75</td><td>47</td></tr>\n",
       "\t<tr><th scope=row>2</th><td>1.75</td><td>47</td></tr>\n",
       "\t<tr><th scope=row>3</th><td>1.867</td><td>48</td></tr>\n",
       "\t<tr><th scope=row>4</th><td>1.75</td><td>48</td></tr>\n",
       "\t<tr><th scope=row>5</th><td>2.167</td><td>48</td></tr>\n",
       "\t<tr><th scope=row>6</th><td>2.1</td><td>49</td></tr>\n",
       "</tbody>\n",
       "</table>\n"
      ],
      "text/latex": [
       "\\begin{tabular}{r|ll}\n",
       "  & eruptions & waiting\\\\\n",
       "\\hline\n",
       "\t1 & 1.75 & 47\\\\\n",
       "\t2 & 1.75 & 47\\\\\n",
       "\t3 & 1.867 & 48\\\\\n",
       "\t4 & 1.75 & 48\\\\\n",
       "\t5 & 2.167 & 48\\\\\n",
       "\t6 & 2.1 & 49\\\\\n",
       "\\end{tabular}\n"
      ],
      "text/plain": [
       "  eruptions waiting\n",
       "1     1.750      47\n",
       "2     1.750      47\n",
       "3     1.867      48\n",
       "4     1.750      48\n",
       "5     2.167      48\n",
       "6     2.100      49"
      ]
     },
     "execution_count": 8,
     "metadata": {},
     "output_type": "execute_result"
    }
   ],
   "source": [
    "head(filter(df, df$waiting < 50))"
   ]
  },
  {
   "cell_type": "code",
   "execution_count": 9,
   "metadata": {
    "collapsed": false
   },
   "outputs": [
    {
     "data": {
      "text/html": [
       "<table>\n",
       "<thead><tr><th></th><th scope=col>waiting</th><th scope=col>count</th></tr></thead>\n",
       "<tbody>\n",
       "\t<tr><th scope=row>1</th><td>81</td><td>13</td></tr>\n",
       "\t<tr><th scope=row>2</th><td>60</td><td>6</td></tr>\n",
       "\t<tr><th scope=row>3</th><td>93</td><td>2</td></tr>\n",
       "\t<tr><th scope=row>4</th><td>68</td><td>1</td></tr>\n",
       "\t<tr><th scope=row>5</th><td>47</td><td>4</td></tr>\n",
       "\t<tr><th scope=row>6</th><td>80</td><td>8</td></tr>\n",
       "</tbody>\n",
       "</table>\n"
      ],
      "text/latex": [
       "\\begin{tabular}{r|ll}\n",
       "  & waiting & count\\\\\n",
       "\\hline\n",
       "\t1 & 81 & 13\\\\\n",
       "\t2 & 60 & 6\\\\\n",
       "\t3 & 93 & 2\\\\\n",
       "\t4 & 68 & 1\\\\\n",
       "\t5 & 47 & 4\\\\\n",
       "\t6 & 80 & 8\\\\\n",
       "\\end{tabular}\n"
      ],
      "text/plain": [
       "  waiting count\n",
       "1      81    13\n",
       "2      60     6\n",
       "3      93     2\n",
       "4      68     1\n",
       "5      47     4\n",
       "6      80     8"
      ]
     },
     "execution_count": 9,
     "metadata": {},
     "output_type": "execute_result"
    }
   ],
   "source": [
    "head(summarize(groupBy(df, df$waiting), count = n(df$waiting)))"
   ]
  },
  {
   "cell_type": "code",
   "execution_count": 10,
   "metadata": {
    "collapsed": false
   },
   "outputs": [
    {
     "data": {
      "text/html": [
       "<table>\n",
       "<thead><tr><th></th><th scope=col>waiting</th><th scope=col>count</th></tr></thead>\n",
       "<tbody>\n",
       "\t<tr><th scope=row>1</th><td>78</td><td>15</td></tr>\n",
       "\t<tr><th scope=row>2</th><td>83</td><td>14</td></tr>\n",
       "\t<tr><th scope=row>3</th><td>81</td><td>13</td></tr>\n",
       "\t<tr><th scope=row>4</th><td>77</td><td>12</td></tr>\n",
       "\t<tr><th scope=row>5</th><td>82</td><td>12</td></tr>\n",
       "\t<tr><th scope=row>6</th><td>79</td><td>10</td></tr>\n",
       "</tbody>\n",
       "</table>\n"
      ],
      "text/latex": [
       "\\begin{tabular}{r|ll}\n",
       "  & waiting & count\\\\\n",
       "\\hline\n",
       "\t1 & 78 & 15\\\\\n",
       "\t2 & 83 & 14\\\\\n",
       "\t3 & 81 & 13\\\\\n",
       "\t4 & 77 & 12\\\\\n",
       "\t5 & 82 & 12\\\\\n",
       "\t6 & 79 & 10\\\\\n",
       "\\end{tabular}\n"
      ],
      "text/plain": [
       "  waiting count\n",
       "1      78    15\n",
       "2      83    14\n",
       "3      81    13\n",
       "4      77    12\n",
       "5      82    12\n",
       "6      79    10"
      ]
     },
     "execution_count": 10,
     "metadata": {},
     "output_type": "execute_result"
    }
   ],
   "source": [
    "waiting_counts <- summarize(groupBy(df, df$waiting), count = n(df$waiting))\n",
    "head(arrange(waiting_counts, desc(waiting_counts$count)))"
   ]
  },
  {
   "cell_type": "code",
   "execution_count": 11,
   "metadata": {
    "collapsed": false
   },
   "outputs": [
    {
     "data": {
      "text/html": [
       "<table>\n",
       "<thead><tr><th></th><th scope=col>eruptions</th><th scope=col>waiting</th><th scope=col>waiting_secs</th></tr></thead>\n",
       "<tbody>\n",
       "\t<tr><th scope=row>1</th><td>3.6</td><td>79</td><td>4740</td></tr>\n",
       "\t<tr><th scope=row>2</th><td>1.8</td><td>54</td><td>3240</td></tr>\n",
       "\t<tr><th scope=row>3</th><td>3.333</td><td>74</td><td>4440</td></tr>\n",
       "\t<tr><th scope=row>4</th><td>2.283</td><td>62</td><td>3720</td></tr>\n",
       "\t<tr><th scope=row>5</th><td>4.533</td><td>85</td><td>5100</td></tr>\n",
       "\t<tr><th scope=row>6</th><td>2.883</td><td>55</td><td>3300</td></tr>\n",
       "</tbody>\n",
       "</table>\n"
      ],
      "text/latex": [
       "\\begin{tabular}{r|lll}\n",
       "  & eruptions & waiting & waiting_secs\\\\\n",
       "\\hline\n",
       "\t1 & 3.6 & 79 & 4740\\\\\n",
       "\t2 & 1.8 & 54 & 3240\\\\\n",
       "\t3 & 3.333 & 74 & 4440\\\\\n",
       "\t4 & 2.283 & 62 & 3720\\\\\n",
       "\t5 & 4.533 & 85 & 5100\\\\\n",
       "\t6 & 2.883 & 55 & 3300\\\\\n",
       "\\end{tabular}\n"
      ],
      "text/plain": [
       "  eruptions waiting waiting_secs\n",
       "1     3.600      79         4740\n",
       "2     1.800      54         3240\n",
       "3     3.333      74         4440\n",
       "4     2.283      62         3720\n",
       "5     4.533      85         5100\n",
       "6     2.883      55         3300"
      ]
     },
     "execution_count": 11,
     "metadata": {},
     "output_type": "execute_result"
    }
   ],
   "source": [
    "df$waiting_secs <- df$waiting * 60\n",
    "head(df)"
   ]
  },
  {
   "cell_type": "markdown",
   "metadata": {},
   "source": [
    "### Load JSON data from HDFS"
   ]
  },
  {
   "cell_type": "code",
   "execution_count": 12,
   "metadata": {
    "collapsed": true
   },
   "outputs": [],
   "source": [
    "people <- read.df(sqlContext, \"mock_data.json\", \"json\")"
   ]
  },
  {
   "cell_type": "code",
   "execution_count": 13,
   "metadata": {
    "collapsed": false
   },
   "outputs": [
    {
     "data": {
      "text/html": [
       "1000"
      ],
      "text/latex": [
       "1000"
      ],
      "text/markdown": [
       "1000"
      ],
      "text/plain": [
       "[1] 1000"
      ]
     },
     "execution_count": 13,
     "metadata": {},
     "output_type": "execute_result"
    }
   ],
   "source": [
    "count(people)"
   ]
  },
  {
   "cell_type": "code",
   "execution_count": 14,
   "metadata": {
    "collapsed": false
   },
   "outputs": [
    {
     "data": {
      "text/html": [
       "<table>\n",
       "<thead><tr><th></th><th scope=col>email</th><th scope=col>first_name</th><th scope=col>gender</th><th scope=col>id</th><th scope=col>ip_address</th><th scope=col>last_name</th></tr></thead>\n",
       "<tbody>\n",
       "\t<tr><th scope=row>1</th><td>areyes0@home.pl</td><td>Arthur</td><td>Male</td><td>1</td><td>163.138.188.169</td><td>Reyes</td></tr>\n",
       "\t<tr><th scope=row>2</th><td>smorales1@scientificamerican.com</td><td>Samuel</td><td>Male</td><td>2</td><td>237.78.10.190</td><td>Morales</td></tr>\n",
       "\t<tr><th scope=row>3</th><td>jfisher2@samsung.com</td><td>Julia</td><td>Female</td><td>3</td><td>2.149.116.117</td><td>Fisher</td></tr>\n",
       "\t<tr><th scope=row>4</th><td>kreid3@prlog.org</td><td>Kathy</td><td>Female</td><td>4</td><td>14.165.16.179</td><td>Reid</td></tr>\n",
       "\t<tr><th scope=row>5</th><td>jjackson4@addthis.com</td><td>Jeremy</td><td>Male</td><td>5</td><td>70.140.102.156</td><td>Jackson</td></tr>\n",
       "\t<tr><th scope=row>6</th><td>emills5@google.co.uk</td><td>Ernest</td><td>Male</td><td>6</td><td>182.51.21.159</td><td>Mills</td></tr>\n",
       "</tbody>\n",
       "</table>\n"
      ],
      "text/latex": [
       "\\begin{tabular}{r|llllll}\n",
       "  & email & first_name & gender & id & ip_address & last_name\\\\\n",
       "\\hline\n",
       "\t1 & areyes0@home.pl & Arthur & Male & 1 & 163.138.188.169 & Reyes\\\\\n",
       "\t2 & smorales1@scientificamerican.com & Samuel & Male & 2 & 237.78.10.190 & Morales\\\\\n",
       "\t3 & jfisher2@samsung.com & Julia & Female & 3 & 2.149.116.117 & Fisher\\\\\n",
       "\t4 & kreid3@prlog.org & Kathy & Female & 4 & 14.165.16.179 & Reid\\\\\n",
       "\t5 & jjackson4@addthis.com & Jeremy & Male & 5 & 70.140.102.156 & Jackson\\\\\n",
       "\t6 & emills5@google.co.uk & Ernest & Male & 6 & 182.51.21.159 & Mills\\\\\n",
       "\\end{tabular}\n"
      ],
      "text/plain": [
       "                             email first_name gender id      ip_address\n",
       "1                  areyes0@home.pl     Arthur   Male  1 163.138.188.169\n",
       "2 smorales1@scientificamerican.com     Samuel   Male  2   237.78.10.190\n",
       "3             jfisher2@samsung.com      Julia Female  3   2.149.116.117\n",
       "4                 kreid3@prlog.org      Kathy Female  4   14.165.16.179\n",
       "5            jjackson4@addthis.com     Jeremy   Male  5  70.140.102.156\n",
       "6             emills5@google.co.uk     Ernest   Male  6   182.51.21.159\n",
       "  last_name\n",
       "1     Reyes\n",
       "2   Morales\n",
       "3    Fisher\n",
       "4      Reid\n",
       "5   Jackson\n",
       "6     Mills"
      ]
     },
     "execution_count": 14,
     "metadata": {},
     "output_type": "execute_result"
    }
   ],
   "source": [
    "head(people)"
   ]
  },
  {
   "cell_type": "code",
   "execution_count": 15,
   "metadata": {
    "collapsed": false
   },
   "outputs": [
    {
     "name": "stdout",
     "output_type": "stream",
     "text": [
      "root\n",
      " |-- email: string (nullable = true)\n",
      " |-- first_name: string (nullable = true)\n",
      " |-- gender: string (nullable = true)\n",
      " |-- id: long (nullable = true)\n",
      " |-- ip_address: string (nullable = true)\n",
      " |-- last_name: string (nullable = true)\n"
     ]
    }
   ],
   "source": [
    "printSchema(people)"
   ]
  },
  {
   "cell_type": "markdown",
   "metadata": {},
   "source": [
    "### Running SQL queries from SparkR"
   ]
  },
  {
   "cell_type": "code",
   "execution_count": 16,
   "metadata": {
    "collapsed": true
   },
   "outputs": [],
   "source": [
    "registerTempTable(people, \"people\")"
   ]
  },
  {
   "cell_type": "code",
   "execution_count": 17,
   "metadata": {
    "collapsed": false,
    "scrolled": true
   },
   "outputs": [
    {
     "data": {
      "text/html": [
       "<table>\n",
       "<thead><tr><th></th><th scope=col>first_name</th></tr></thead>\n",
       "<tbody>\n",
       "\t<tr><th scope=row>1</th><td>Arthur</td></tr>\n",
       "\t<tr><th scope=row>2</th><td>Samuel</td></tr>\n",
       "\t<tr><th scope=row>3</th><td>Jeremy</td></tr>\n",
       "\t<tr><th scope=row>4</th><td>Ernest</td></tr>\n",
       "\t<tr><th scope=row>5</th><td>Louis</td></tr>\n",
       "\t<tr><th scope=row>6</th><td>William</td></tr>\n",
       "</tbody>\n",
       "</table>\n"
      ],
      "text/latex": [
       "\\begin{tabular}{r|l}\n",
       "  & first_name\\\\\n",
       "\\hline\n",
       "\t1 & Arthur\\\\\n",
       "\t2 & Samuel\\\\\n",
       "\t3 & Jeremy\\\\\n",
       "\t4 & Ernest\\\\\n",
       "\t5 & Louis\\\\\n",
       "\t6 & William\\\\\n",
       "\\end{tabular}\n"
      ],
      "text/plain": [
       "  first_name\n",
       "1     Arthur\n",
       "2     Samuel\n",
       "3     Jeremy\n",
       "4     Ernest\n",
       "5      Louis\n",
       "6    William"
      ]
     },
     "execution_count": 17,
     "metadata": {},
     "output_type": "execute_result"
    }
   ],
   "source": [
    "males <- sql(sqlContext, \"SELECT first_name FROM people WHERE gender = 'Male'\")\n",
    "head(males)"
   ]
  },
  {
   "cell_type": "code",
   "execution_count": 18,
   "metadata": {
    "collapsed": false
   },
   "outputs": [
    {
     "data": {
      "text/html": [
       "<table>\n",
       "<thead><tr><th></th><th scope=col>first_name</th></tr></thead>\n",
       "<tbody>\n",
       "\t<tr><th scope=row>1</th><td>Julia</td></tr>\n",
       "\t<tr><th scope=row>2</th><td>Kathy</td></tr>\n",
       "\t<tr><th scope=row>3</th><td>Ann</td></tr>\n",
       "\t<tr><th scope=row>4</th><td>Debra</td></tr>\n",
       "\t<tr><th scope=row>5</th><td>Rose</td></tr>\n",
       "\t<tr><th scope=row>6</th><td>Kathleen</td></tr>\n",
       "</tbody>\n",
       "</table>\n"
      ],
      "text/latex": [
       "\\begin{tabular}{r|l}\n",
       "  & first_name\\\\\n",
       "\\hline\n",
       "\t1 & Julia\\\\\n",
       "\t2 & Kathy\\\\\n",
       "\t3 & Ann\\\\\n",
       "\t4 & Debra\\\\\n",
       "\t5 & Rose\\\\\n",
       "\t6 & Kathleen\\\\\n",
       "\\end{tabular}\n"
      ],
      "text/plain": [
       "  first_name\n",
       "1      Julia\n",
       "2      Kathy\n",
       "3        Ann\n",
       "4      Debra\n",
       "5       Rose\n",
       "6   Kathleen"
      ]
     },
     "execution_count": 18,
     "metadata": {},
     "output_type": "execute_result"
    }
   ],
   "source": [
    "females <- sql(sqlContext, \"SELECT first_name FROM people WHERE gender = 'Female'\")\n",
    "head(females)"
   ]
  },
  {
   "cell_type": "markdown",
   "metadata": {},
   "source": [
    "### Machine learning"
   ]
  },
  {
   "cell_type": "code",
   "execution_count": 19,
   "metadata": {
    "collapsed": false
   },
   "outputs": [
    {
     "name": "stderr",
     "output_type": "stream",
     "text": [
      "Warning message:\n",
      "In FUN(X[[i]], ...): Use Sepal_Length instead of Sepal.Length  as column nameWarning message:\n",
      "In FUN(X[[i]], ...): Use Sepal_Width instead of Sepal.Width  as column nameWarning message:\n",
      "In FUN(X[[i]], ...): Use Petal_Length instead of Petal.Length  as column nameWarning message:\n",
      "In FUN(X[[i]], ...): Use Petal_Width instead of Petal.Width  as column name"
     ]
    }
   ],
   "source": [
    "df <- createDataFrame(sqlContext, iris)"
   ]
  },
  {
   "cell_type": "code",
   "execution_count": 20,
   "metadata": {
    "collapsed": false
   },
   "outputs": [],
   "source": [
    "model <- glm(Sepal_Length ~ Sepal_Width + Species, data = df, family = \"gaussian\")"
   ]
  },
  {
   "cell_type": "code",
   "execution_count": 21,
   "metadata": {
    "collapsed": false
   },
   "outputs": [
    {
     "data": {
      "text/html": [
       "<strong>$coefficients</strong> = <table>\n",
       "<thead><tr><th></th><th scope=col>Estimate</th></tr></thead>\n",
       "<tbody>\n",
       "\t<tr><th scope=row>(Intercept)</th><td>2.251393</td></tr>\n",
       "\t<tr><th scope=row>Sepal_Width</th><td>0.8035609</td></tr>\n",
       "\t<tr><th scope=row>Species__versicolor</th><td>1.458743</td></tr>\n",
       "\t<tr><th scope=row>Species__virginica</th><td>1.946817</td></tr>\n",
       "</tbody>\n",
       "</table>\n"
      ],
      "text/latex": [
       "\\textbf{\\$coefficients} = \\begin{tabular}{r|l}\n",
       "  & Estimate\\\\\n",
       "\\hline\n",
       "\t(Intercept) & 2.251393\\\\\n",
       "\tSepal_Width & 0.8035609\\\\\n",
       "\tSpecies__versicolor & 1.458743\\\\\n",
       "\tSpecies__virginica & 1.946817\\\\\n",
       "\\end{tabular}\n"
      ],
      "text/markdown": [
       "**$coefficients** = 1. 2.25139295226727\n",
       "2. 0.803560947485068\n",
       "3. 1.4587432462392\n",
       "4. 1.94681688662596\n",
       "\n",
       "\n"
      ],
      "text/plain": [
       "$coefficients\n",
       "                     Estimate\n",
       "(Intercept)         2.2513930\n",
       "Sepal_Width         0.8035609\n",
       "Species__versicolor 1.4587432\n",
       "Species__virginica  1.9468169\n"
      ]
     },
     "execution_count": 21,
     "metadata": {},
     "output_type": "execute_result"
    }
   ],
   "source": [
    "summary(model)"
   ]
  },
  {
   "cell_type": "code",
   "execution_count": 22,
   "metadata": {
    "collapsed": false
   },
   "outputs": [
    {
     "data": {
      "text/html": [
       "<table>\n",
       "<thead><tr><th></th><th scope=col>Sepal_Length</th><th scope=col>prediction</th></tr></thead>\n",
       "<tbody>\n",
       "\t<tr><th scope=row>1</th><td>5.1</td><td>5.063856</td></tr>\n",
       "\t<tr><th scope=row>2</th><td>4.9</td><td>4.662076</td></tr>\n",
       "\t<tr><th scope=row>3</th><td>4.7</td><td>4.822788</td></tr>\n",
       "\t<tr><th scope=row>4</th><td>4.6</td><td>4.742432</td></tr>\n",
       "\t<tr><th scope=row>5</th><td>5</td><td>5.144212</td></tr>\n",
       "\t<tr><th scope=row>6</th><td>5.4</td><td>5.385281</td></tr>\n",
       "</tbody>\n",
       "</table>\n"
      ],
      "text/latex": [
       "\\begin{tabular}{r|ll}\n",
       "  & Sepal_Length & prediction\\\\\n",
       "\\hline\n",
       "\t1 & 5.1 & 5.063856\\\\\n",
       "\t2 & 4.9 & 4.662076\\\\\n",
       "\t3 & 4.7 & 4.822788\\\\\n",
       "\t4 & 4.6 & 4.742432\\\\\n",
       "\t5 & 5 & 5.144212\\\\\n",
       "\t6 & 5.4 & 5.385281\\\\\n",
       "\\end{tabular}\n"
      ],
      "text/plain": [
       "  Sepal_Length prediction\n",
       "1          5.1   5.063856\n",
       "2          4.9   4.662076\n",
       "3          4.7   4.822788\n",
       "4          4.6   4.742432\n",
       "5          5.0   5.144212\n",
       "6          5.4   5.385281"
      ]
     },
     "execution_count": 22,
     "metadata": {},
     "output_type": "execute_result"
    }
   ],
   "source": [
    "predictions <- predict(model, newData = df)\n",
    "head(select(predictions, \"Sepal_Length\", \"prediction\"))"
   ]
  }
 ],
 "metadata": {
  "kernelspec": {
   "display_name": "R",
   "language": "R",
   "name": "ir"
  },
  "language_info": {
   "codemirror_mode": "r",
   "file_extension": ".r",
   "mimetype": "text/x-r-source",
   "name": "R",
   "pygments_lexer": "r",
   "version": "3.2.2"
  }
 },
 "nbformat": 4,
 "nbformat_minor": 0
}
